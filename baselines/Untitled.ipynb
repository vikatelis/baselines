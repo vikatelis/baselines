{
 "cells": [
  {
   "cell_type": "code",
   "execution_count": 15,
   "metadata": {},
   "outputs": [
    {
     "name": "stdout",
     "output_type": "stream",
     "text": [
      "['', '/usr/local/Cellar/python/3.6.5/Frameworks/Python.framework/Versions/3.6/lib/python36.zip', '/usr/local/Cellar/python/3.6.5/Frameworks/Python.framework/Versions/3.6/lib/python3.6', '/usr/local/Cellar/python/3.6.5/Frameworks/Python.framework/Versions/3.6/lib/python3.6/lib-dynload', '/Users/romc/Library/Python/3.6/lib/python/site-packages', '/usr/local/lib/python3.6/site-packages', '/usr/local/lib/python3.6/site-packages/baselines-0.1.5-py3.6.egg', '/usr/local/lib/python3.6/site-packages/opencv_python-3.4.3.18-py3.6-macosx-10.13-x86_64.egg', '/usr/local/lib/python3.6/site-packages/Click-7.0-py3.6.egg', '/usr/local/lib/python3.6/site-packages/cloudpickle-0.5.6-py3.6.egg', '/usr/local/lib/python3.6/site-packages/mpi4py-3.0.0-py3.6-macosx-10.13-x86_64.egg', '/usr/local/lib/python3.6/site-packages/progressbar2-3.38.0-py3.6.egg', '/usr/local/lib/python3.6/site-packages/dill-0.2.8.2-py3.6.egg', '/usr/local/lib/python3.6/site-packages/joblib-0.12.5-py3.6.egg', '/usr/local/lib/python3.6/site-packages/tqdm-4.26.0-py3.6.egg', '/usr/local/lib/python3.6/site-packages/gym-0.10.8-py3.6.egg', '/usr/local/lib/python3.6/site-packages/IPython/extensions', '/Users/romc/.ipython']\n"
     ]
    }
   ],
   "source": [
    "import sys \n",
    "print(sys.path)"
   ]
  },
  {
   "cell_type": "code",
   "execution_count": 17,
   "metadata": {},
   "outputs": [
    {
     "ename": "SyntaxError",
     "evalue": "invalid syntax (<ipython-input-17-fcd4bdeb4084>, line 2)",
     "output_type": "error",
     "traceback": [
      "\u001b[0;36m  File \u001b[0;32m\"<ipython-input-17-fcd4bdeb4084>\"\u001b[0;36m, line \u001b[0;32m2\u001b[0m\n\u001b[0;31m    from ../ import gym\u001b[0m\n\u001b[0m           ^\u001b[0m\n\u001b[0;31mSyntaxError\u001b[0m\u001b[0;31m:\u001b[0m invalid syntax\n"
     ]
    }
   ],
   "source": [
    "from collections import defaultdict\n",
    "from .. import gym\n",
    "\n",
    "def get_env_type(env_id):\n",
    "    if env_id in _game_envs.keys():\n",
    "        env_type = env_id\n",
    "        env_id =  [g for g in _game_envs[env_type]][0]\n",
    "    else:\n",
    "        env_type = None\n",
    "        for g, e in _game_envs.items():\n",
    "            if env_id in e:\n",
    "                env_type = g\n",
    "                break\n",
    "        assert env_type is not None, 'env_id {} is not recognized in env types'.format(env_id, _game_envs.keys())\n",
    "\n",
    "    return env_type, env_id\n",
    "\n",
    "_game_envs = defaultdict(set)\n",
    "for env in gym.envs.registry.all():\n",
    "    # solve this with regexes\n",
    "    print(env_type)\n",
    "    env_type = env._entry_point.split(':')[0].split('.')[-1]\n",
    "    _game_envs[env_type].add(env.id)"
   ]
  },
  {
   "cell_type": "code",
   "execution_count": 10,
   "metadata": {},
   "outputs": [
    {
     "ename": "AssertionError",
     "evalue": "env_id Rosi-v0 is not recognized in env types",
     "output_type": "error",
     "traceback": [
      "\u001b[0;31m---------------------------------------------------------------------------\u001b[0m",
      "\u001b[0;31mAssertionError\u001b[0m                            Traceback (most recent call last)",
      "\u001b[0;32m<ipython-input-10-0e15a48b9973>\u001b[0m in \u001b[0;36m<module>\u001b[0;34m\u001b[0m\n\u001b[1;32m      1\u001b[0m \u001b[0;31m# initialize environment\u001b[0m\u001b[0;34m\u001b[0m\u001b[0;34m\u001b[0m\u001b[0m\n\u001b[1;32m      2\u001b[0m \u001b[0;34m\u001b[0m\u001b[0m\n\u001b[0;32m----> 3\u001b[0;31m \u001b[0menv_type\u001b[0m\u001b[0;34m,\u001b[0m \u001b[0menv_id\u001b[0m \u001b[0;34m=\u001b[0m \u001b[0mget_env_type\u001b[0m\u001b[0;34m(\u001b[0m\u001b[0;34m'Rosi-v0'\u001b[0m\u001b[0;34m)\u001b[0m\u001b[0;34m\u001b[0m\u001b[0m\n\u001b[0m",
      "\u001b[0;32m<ipython-input-9-aa61c8496e32>\u001b[0m in \u001b[0;36mget_env_type\u001b[0;34m(env_id)\u001b[0m\n\u001b[1;32m     12\u001b[0m                 \u001b[0menv_type\u001b[0m \u001b[0;34m=\u001b[0m \u001b[0mg\u001b[0m\u001b[0;34m\u001b[0m\u001b[0m\n\u001b[1;32m     13\u001b[0m                 \u001b[0;32mbreak\u001b[0m\u001b[0;34m\u001b[0m\u001b[0m\n\u001b[0;32m---> 14\u001b[0;31m         \u001b[0;32massert\u001b[0m \u001b[0menv_type\u001b[0m \u001b[0;32mis\u001b[0m \u001b[0;32mnot\u001b[0m \u001b[0;32mNone\u001b[0m\u001b[0;34m,\u001b[0m \u001b[0;34m'env_id {} is not recognized in env types'\u001b[0m\u001b[0;34m.\u001b[0m\u001b[0mformat\u001b[0m\u001b[0;34m(\u001b[0m\u001b[0menv_id\u001b[0m\u001b[0;34m,\u001b[0m \u001b[0m_game_envs\u001b[0m\u001b[0;34m.\u001b[0m\u001b[0mkeys\u001b[0m\u001b[0;34m(\u001b[0m\u001b[0;34m)\u001b[0m\u001b[0;34m)\u001b[0m\u001b[0;34m\u001b[0m\u001b[0m\n\u001b[0m\u001b[1;32m     15\u001b[0m \u001b[0;34m\u001b[0m\u001b[0m\n\u001b[1;32m     16\u001b[0m     \u001b[0;32mreturn\u001b[0m \u001b[0menv_type\u001b[0m\u001b[0;34m,\u001b[0m \u001b[0menv_id\u001b[0m\u001b[0;34m\u001b[0m\u001b[0m\n",
      "\u001b[0;31mAssertionError\u001b[0m: env_id Rosi-v0 is not recognized in env types"
     ]
    }
   ],
   "source": [
    "# initialize environment\n",
    "env_type, env_id = get_env_type('Rosi-v0')\n"
   ]
  },
  {
   "cell_type": "code",
   "execution_count": null,
   "metadata": {},
   "outputs": [],
   "source": []
  }
 ],
 "metadata": {
  "kernelspec": {
   "display_name": "Python 3",
   "language": "python",
   "name": "python3"
  },
  "language_info": {
   "codemirror_mode": {
    "name": "ipython",
    "version": 3
   },
   "file_extension": ".py",
   "mimetype": "text/x-python",
   "name": "python",
   "nbconvert_exporter": "python",
   "pygments_lexer": "ipython3",
   "version": "3.6.5"
  }
 },
 "nbformat": 4,
 "nbformat_minor": 2
}
